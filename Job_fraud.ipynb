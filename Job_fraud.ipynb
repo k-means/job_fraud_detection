{
 "cells": [
  {
   "cell_type": "code",
   "execution_count": 1,
   "metadata": {},
   "outputs": [],
   "source": [
    "import pandas as pd\n",
    "import matplotlib.pyplot as plt\n",
    "import seaborn as sns"
   ]
  },
  {
   "cell_type": "code",
   "execution_count": 2,
   "metadata": {},
   "outputs": [
    {
     "data": {
      "text/plain": [
       "(17880, 16)"
      ]
     },
     "execution_count": 2,
     "metadata": {},
     "output_type": "execute_result"
    }
   ],
   "source": [
    "jobs_data = pd.read_csv(\"Job_Frauds.csv\", encoding=\"iso-8859-1\")\n",
    "jobs_data.shape"
   ]
  },
  {
   "cell_type": "code",
   "execution_count": 3,
   "metadata": {},
   "outputs": [
    {
     "data": {
      "text/plain": [
       "Index(['Job Title', 'Job Location', 'Department', 'Range_of_Salary', 'Profile',\n",
       "       'Job_Description', 'Requirements', 'Job_Benefits', 'Telecomunication',\n",
       "       'Comnpany_Logo', 'Type_of_Employment', 'Experience', 'Qualification',\n",
       "       'Type_of_Industry', 'Operations', 'Fraudulent'],\n",
       "      dtype='object')"
      ]
     },
     "execution_count": 3,
     "metadata": {},
     "output_type": "execute_result"
    }
   ],
   "source": [
    "jobs_data.columns"
   ]
  },
  {
   "cell_type": "code",
   "execution_count": 4,
   "metadata": {},
   "outputs": [
    {
     "data": {
      "text/plain": [
       "['Telecomunication', 'Comnpany_Logo', 'Fraudulent']"
      ]
     },
     "execution_count": 4,
     "metadata": {},
     "output_type": "execute_result"
    }
   ],
   "source": [
    "#Obtaining the numerical columns\n",
    "numerical_columns = list(jobs_data.dtypes[jobs_data.dtypes != \"object\"].index)\n",
    "numerical_columns"
   ]
  },
  {
   "cell_type": "markdown",
   "metadata": {},
   "source": [
    "We can see that we have only two numerical columns assides the target \"Fraudulent\" column"
   ]
  },
  {
   "cell_type": "code",
   "execution_count": 5,
   "metadata": {},
   "outputs": [
    {
     "data": {
      "text/plain": [
       "Telecomunication    0.034523\n",
       "Comnpany_Logo      -0.261971\n",
       "Fraudulent          1.000000\n",
       "Name: Fraudulent, dtype: float64"
      ]
     },
     "execution_count": 5,
     "metadata": {},
     "output_type": "execute_result"
    }
   ],
   "source": [
    "numerical_df = jobs_data[numerical_columns]\n",
    "numerical_df.corr()[\"Fraudulent\"]"
   ]
  },
  {
   "cell_type": "markdown",
   "metadata": {},
   "source": [
    "While we have some negative correlation between the company_logo and the fraudulent class, the corelation of the frauulent class with the \"Telecommunication\" feature is very low"
   ]
  },
  {
   "cell_type": "code",
   "execution_count": 6,
   "metadata": {},
   "outputs": [
    {
     "data": {
      "text/plain": [
       "Job Title                 0\n",
       "Job Location            346\n",
       "Department            11547\n",
       "Range_of_Salary       15012\n",
       "Profile                3308\n",
       "Job_Description           1\n",
       "Requirements           2695\n",
       "Job_Benefits           7210\n",
       "Telecomunication          0\n",
       "Comnpany_Logo             0\n",
       "Type_of_Employment     3471\n",
       "Experience             7050\n",
       "Qualification          8105\n",
       "Type_of_Industry       4903\n",
       "Operations             6455\n",
       "Fraudulent                0\n",
       "dtype: int64"
      ]
     },
     "execution_count": 6,
     "metadata": {},
     "output_type": "execute_result"
    }
   ],
   "source": [
    "jobs_data.isnull().sum()"
   ]
  },
  {
   "cell_type": "code",
   "execution_count": 7,
   "metadata": {},
   "outputs": [],
   "source": [
    "#Creating a function for removing the null values above a particular threshold\n",
    "def nullthresh_remover(df, threshold):\n",
    "    sum_of_null = df.isnull().sum()\n",
    "    percentage_null = sum_of_null/df.shape[0]\n",
    "    chosen = percentage_null[percentage_null < threshold]\n",
    "    new_df = df[chosen.index]\n",
    "    return new_df"
   ]
  },
  {
   "cell_type": "code",
   "execution_count": 8,
   "metadata": {},
   "outputs": [
    {
     "data": {
      "text/plain": [
       "['Job Title',\n",
       " 'Job Location',\n",
       " 'Profile',\n",
       " 'Job_Description',\n",
       " 'Requirements',\n",
       " 'Job_Benefits',\n",
       " 'Telecomunication',\n",
       " 'Comnpany_Logo',\n",
       " 'Type_of_Employment',\n",
       " 'Experience',\n",
       " 'Qualification',\n",
       " 'Type_of_Industry',\n",
       " 'Operations',\n",
       " 'Fraudulent']"
      ]
     },
     "execution_count": 8,
     "metadata": {},
     "output_type": "execute_result"
    }
   ],
   "source": [
    "jobs_data = nullthresh_remover(jobs_data, 0.6)\n",
    "list(jobs_data.columns)"
   ]
  },
  {
   "cell_type": "markdown",
   "metadata": {},
   "source": [
    "The above list shows the remaining columns with null values below the threshold of 60% and the target Fraudulent column.\n",
    "Note that we have 13 features left"
   ]
  },
  {
   "cell_type": "code",
   "execution_count": 9,
   "metadata": {},
   "outputs": [
    {
     "data": {
      "text/plain": [
       "0    17014\n",
       "1      866\n",
       "Name: Fraudulent, dtype: int64"
      ]
     },
     "execution_count": 9,
     "metadata": {},
     "output_type": "execute_result"
    }
   ],
   "source": [
    "jobs_data.Fraudulent.value_counts()"
   ]
  },
  {
   "cell_type": "markdown",
   "metadata": {},
   "source": [
    "The target column is very imbalanced with the fraudulent class 20 times lesser than the not fraudulent class. There would be a need to make use of a metric that can counter the imbalance in the data classes. "
   ]
  },
  {
   "cell_type": "code",
   "execution_count": 10,
   "metadata": {},
   "outputs": [
    {
     "data": {
      "text/html": [
       "<div>\n",
       "<style scoped>\n",
       "    .dataframe tbody tr th:only-of-type {\n",
       "        vertical-align: middle;\n",
       "    }\n",
       "\n",
       "    .dataframe tbody tr th {\n",
       "        vertical-align: top;\n",
       "    }\n",
       "\n",
       "    .dataframe thead th {\n",
       "        text-align: right;\n",
       "    }\n",
       "</style>\n",
       "<table border=\"1\" class=\"dataframe\">\n",
       "  <thead>\n",
       "    <tr style=\"text-align: right;\">\n",
       "      <th></th>\n",
       "      <th>Job Title</th>\n",
       "      <th>Job Location</th>\n",
       "      <th>Profile</th>\n",
       "      <th>Job_Description</th>\n",
       "      <th>Requirements</th>\n",
       "      <th>Job_Benefits</th>\n",
       "      <th>Telecomunication</th>\n",
       "      <th>Comnpany_Logo</th>\n",
       "      <th>Type_of_Employment</th>\n",
       "      <th>Experience</th>\n",
       "      <th>Qualification</th>\n",
       "      <th>Type_of_Industry</th>\n",
       "      <th>Operations</th>\n",
       "      <th>Fraudulent</th>\n",
       "    </tr>\n",
       "  </thead>\n",
       "  <tbody>\n",
       "    <tr>\n",
       "      <th>0</th>\n",
       "      <td>Marketing Intern</td>\n",
       "      <td>US, NY, New York</td>\n",
       "      <td>We're Food52, and we've created a groundbreaki...</td>\n",
       "      <td>Food52, a fast-growing, James Beard Award-winn...</td>\n",
       "      <td>Experience with content management systems a m...</td>\n",
       "      <td>NaN</td>\n",
       "      <td>0</td>\n",
       "      <td>1</td>\n",
       "      <td>Other</td>\n",
       "      <td>Internship</td>\n",
       "      <td>NaN</td>\n",
       "      <td>NaN</td>\n",
       "      <td>Marketing</td>\n",
       "      <td>0</td>\n",
       "    </tr>\n",
       "    <tr>\n",
       "      <th>1</th>\n",
       "      <td>Customer Service - Cloud Video Production</td>\n",
       "      <td>NZ, , Auckland</td>\n",
       "      <td>90 Seconds, the worlds Cloud Video Production ...</td>\n",
       "      <td>Organised - Focused - Vibrant - Awesome!Do you...</td>\n",
       "      <td>What we expect from you:Your key responsibilit...</td>\n",
       "      <td>What you will get from usThrough being part of...</td>\n",
       "      <td>0</td>\n",
       "      <td>1</td>\n",
       "      <td>Full-time</td>\n",
       "      <td>Not Applicable</td>\n",
       "      <td>NaN</td>\n",
       "      <td>Marketing and Advertising</td>\n",
       "      <td>Customer Service</td>\n",
       "      <td>0</td>\n",
       "    </tr>\n",
       "    <tr>\n",
       "      <th>2</th>\n",
       "      <td>Commissioning Machinery Assistant (CMA)</td>\n",
       "      <td>US, IA, Wever</td>\n",
       "      <td>Valor Services provides Workforce Solutions th...</td>\n",
       "      <td>Our client, located in Houston, is actively se...</td>\n",
       "      <td>Implement pre-commissioning and commissioning ...</td>\n",
       "      <td>NaN</td>\n",
       "      <td>0</td>\n",
       "      <td>1</td>\n",
       "      <td>NaN</td>\n",
       "      <td>NaN</td>\n",
       "      <td>NaN</td>\n",
       "      <td>NaN</td>\n",
       "      <td>NaN</td>\n",
       "      <td>0</td>\n",
       "    </tr>\n",
       "    <tr>\n",
       "      <th>3</th>\n",
       "      <td>Account Executive - Washington DC</td>\n",
       "      <td>US, DC, Washington</td>\n",
       "      <td>Our passion for improving quality of life thro...</td>\n",
       "      <td>THE COMPANY: ESRI â Environmental Systems Re...</td>\n",
       "      <td>EDUCATION:Â Bachelorâs or Masterâs in GIS,...</td>\n",
       "      <td>Our culture is anything but corporateâwe hav...</td>\n",
       "      <td>0</td>\n",
       "      <td>1</td>\n",
       "      <td>Full-time</td>\n",
       "      <td>Mid-Senior level</td>\n",
       "      <td>Bachelor's Degree</td>\n",
       "      <td>Computer Software</td>\n",
       "      <td>Sales</td>\n",
       "      <td>0</td>\n",
       "    </tr>\n",
       "    <tr>\n",
       "      <th>4</th>\n",
       "      <td>Bill Review Manager</td>\n",
       "      <td>US, FL, Fort Worth</td>\n",
       "      <td>SpotSource Solutions LLC is a Global Human Cap...</td>\n",
       "      <td>JOB TITLE: Itemization Review ManagerLOCATION:...</td>\n",
       "      <td>QUALIFICATIONS:RN license in the State of Texa...</td>\n",
       "      <td>Full Benefits Offered</td>\n",
       "      <td>0</td>\n",
       "      <td>1</td>\n",
       "      <td>Full-time</td>\n",
       "      <td>Mid-Senior level</td>\n",
       "      <td>Bachelor's Degree</td>\n",
       "      <td>Hospital &amp; Health Care</td>\n",
       "      <td>Health Care Provider</td>\n",
       "      <td>0</td>\n",
       "    </tr>\n",
       "    <tr>\n",
       "      <th>...</th>\n",
       "      <td>...</td>\n",
       "      <td>...</td>\n",
       "      <td>...</td>\n",
       "      <td>...</td>\n",
       "      <td>...</td>\n",
       "      <td>...</td>\n",
       "      <td>...</td>\n",
       "      <td>...</td>\n",
       "      <td>...</td>\n",
       "      <td>...</td>\n",
       "      <td>...</td>\n",
       "      <td>...</td>\n",
       "      <td>...</td>\n",
       "      <td>...</td>\n",
       "    </tr>\n",
       "    <tr>\n",
       "      <th>17875</th>\n",
       "      <td>Account Director - Distribution</td>\n",
       "      <td>CA, ON, Toronto</td>\n",
       "      <td>Vend is looking for some awesome new talent to...</td>\n",
       "      <td>Just in case this is the first time youâve v...</td>\n",
       "      <td>To ace this role you:Will eat comprehensive St...</td>\n",
       "      <td>What can you expect from us?We have an open cu...</td>\n",
       "      <td>0</td>\n",
       "      <td>1</td>\n",
       "      <td>Full-time</td>\n",
       "      <td>Mid-Senior level</td>\n",
       "      <td>NaN</td>\n",
       "      <td>Computer Software</td>\n",
       "      <td>Sales</td>\n",
       "      <td>0</td>\n",
       "    </tr>\n",
       "    <tr>\n",
       "      <th>17876</th>\n",
       "      <td>Payroll Accountant</td>\n",
       "      <td>US, PA, Philadelphia</td>\n",
       "      <td>WebLinc is the e-commerce platform and service...</td>\n",
       "      <td>The Payroll Accountant will focus primarily on...</td>\n",
       "      <td>- B.A. or B.S. in Accounting-Â Desire to have ...</td>\n",
       "      <td>Health &amp;amp; WellnessMedical planPrescription ...</td>\n",
       "      <td>0</td>\n",
       "      <td>1</td>\n",
       "      <td>Full-time</td>\n",
       "      <td>Mid-Senior level</td>\n",
       "      <td>Bachelor's Degree</td>\n",
       "      <td>Internet</td>\n",
       "      <td>Accounting/Auditing</td>\n",
       "      <td>0</td>\n",
       "    </tr>\n",
       "    <tr>\n",
       "      <th>17877</th>\n",
       "      <td>Project Cost Control Staff Engineer - Cost Con...</td>\n",
       "      <td>US, TX, Houston</td>\n",
       "      <td>We Provide Full Time Permanent Positions for m...</td>\n",
       "      <td>Experienced Project Cost Control Staff Enginee...</td>\n",
       "      <td>At least 12 years professional experience.Abil...</td>\n",
       "      <td>NaN</td>\n",
       "      <td>0</td>\n",
       "      <td>0</td>\n",
       "      <td>Full-time</td>\n",
       "      <td>NaN</td>\n",
       "      <td>NaN</td>\n",
       "      <td>NaN</td>\n",
       "      <td>NaN</td>\n",
       "      <td>0</td>\n",
       "    </tr>\n",
       "    <tr>\n",
       "      <th>17878</th>\n",
       "      <td>Graphic Designer</td>\n",
       "      <td>NG, LA, Lagos</td>\n",
       "      <td>NaN</td>\n",
       "      <td>Nemsia Studios is looking for an experienced v...</td>\n",
       "      <td>1. Must be fluent in the latest versions of Co...</td>\n",
       "      <td>Competitive salary (compensation will be based...</td>\n",
       "      <td>0</td>\n",
       "      <td>0</td>\n",
       "      <td>Contract</td>\n",
       "      <td>Not Applicable</td>\n",
       "      <td>Professional</td>\n",
       "      <td>Graphic Design</td>\n",
       "      <td>Design</td>\n",
       "      <td>0</td>\n",
       "    </tr>\n",
       "    <tr>\n",
       "      <th>17879</th>\n",
       "      <td>Web Application Developers</td>\n",
       "      <td>NZ, N, Wellington</td>\n",
       "      <td>Vend is looking for some awesome new talent to...</td>\n",
       "      <td>Who are we?Vend is an award winning web based ...</td>\n",
       "      <td>We want to hear from you if:You have an in-dep...</td>\n",
       "      <td>NaN</td>\n",
       "      <td>0</td>\n",
       "      <td>1</td>\n",
       "      <td>Full-time</td>\n",
       "      <td>Mid-Senior level</td>\n",
       "      <td>NaN</td>\n",
       "      <td>Computer Software</td>\n",
       "      <td>Engineering</td>\n",
       "      <td>0</td>\n",
       "    </tr>\n",
       "  </tbody>\n",
       "</table>\n",
       "<p>17880 rows × 14 columns</p>\n",
       "</div>"
      ],
      "text/plain": [
       "                                               Job Title  \\\n",
       "0                                       Marketing Intern   \n",
       "1              Customer Service - Cloud Video Production   \n",
       "2                Commissioning Machinery Assistant (CMA)   \n",
       "3                      Account Executive - Washington DC   \n",
       "4                                    Bill Review Manager   \n",
       "...                                                  ...   \n",
       "17875                   Account Director - Distribution    \n",
       "17876                                 Payroll Accountant   \n",
       "17877  Project Cost Control Staff Engineer - Cost Con...   \n",
       "17878                                   Graphic Designer   \n",
       "17879                         Web Application Developers   \n",
       "\n",
       "               Job Location  \\\n",
       "0          US, NY, New York   \n",
       "1            NZ, , Auckland   \n",
       "2             US, IA, Wever   \n",
       "3        US, DC, Washington   \n",
       "4        US, FL, Fort Worth   \n",
       "...                     ...   \n",
       "17875       CA, ON, Toronto   \n",
       "17876  US, PA, Philadelphia   \n",
       "17877       US, TX, Houston   \n",
       "17878         NG, LA, Lagos   \n",
       "17879     NZ, N, Wellington   \n",
       "\n",
       "                                                 Profile  \\\n",
       "0      We're Food52, and we've created a groundbreaki...   \n",
       "1      90 Seconds, the worlds Cloud Video Production ...   \n",
       "2      Valor Services provides Workforce Solutions th...   \n",
       "3      Our passion for improving quality of life thro...   \n",
       "4      SpotSource Solutions LLC is a Global Human Cap...   \n",
       "...                                                  ...   \n",
       "17875  Vend is looking for some awesome new talent to...   \n",
       "17876  WebLinc is the e-commerce platform and service...   \n",
       "17877  We Provide Full Time Permanent Positions for m...   \n",
       "17878                                                NaN   \n",
       "17879  Vend is looking for some awesome new talent to...   \n",
       "\n",
       "                                         Job_Description  \\\n",
       "0      Food52, a fast-growing, James Beard Award-winn...   \n",
       "1      Organised - Focused - Vibrant - Awesome!Do you...   \n",
       "2      Our client, located in Houston, is actively se...   \n",
       "3      THE COMPANY: ESRI â Environmental Systems Re...   \n",
       "4      JOB TITLE: Itemization Review ManagerLOCATION:...   \n",
       "...                                                  ...   \n",
       "17875  Just in case this is the first time youâve v...   \n",
       "17876  The Payroll Accountant will focus primarily on...   \n",
       "17877  Experienced Project Cost Control Staff Enginee...   \n",
       "17878  Nemsia Studios is looking for an experienced v...   \n",
       "17879  Who are we?Vend is an award winning web based ...   \n",
       "\n",
       "                                            Requirements  \\\n",
       "0      Experience with content management systems a m...   \n",
       "1      What we expect from you:Your key responsibilit...   \n",
       "2      Implement pre-commissioning and commissioning ...   \n",
       "3      EDUCATION:Â Bachelorâs or Masterâs in GIS,...   \n",
       "4      QUALIFICATIONS:RN license in the State of Texa...   \n",
       "...                                                  ...   \n",
       "17875  To ace this role you:Will eat comprehensive St...   \n",
       "17876  - B.A. or B.S. in Accounting-Â Desire to have ...   \n",
       "17877  At least 12 years professional experience.Abil...   \n",
       "17878  1. Must be fluent in the latest versions of Co...   \n",
       "17879  We want to hear from you if:You have an in-dep...   \n",
       "\n",
       "                                            Job_Benefits  Telecomunication  \\\n",
       "0                                                    NaN                 0   \n",
       "1      What you will get from usThrough being part of...                 0   \n",
       "2                                                    NaN                 0   \n",
       "3      Our culture is anything but corporateâwe hav...                 0   \n",
       "4                                  Full Benefits Offered                 0   \n",
       "...                                                  ...               ...   \n",
       "17875  What can you expect from us?We have an open cu...                 0   \n",
       "17876  Health &amp; WellnessMedical planPrescription ...                 0   \n",
       "17877                                                NaN                 0   \n",
       "17878  Competitive salary (compensation will be based...                 0   \n",
       "17879                                                NaN                 0   \n",
       "\n",
       "       Comnpany_Logo Type_of_Employment        Experience      Qualification  \\\n",
       "0                  1              Other        Internship                NaN   \n",
       "1                  1          Full-time    Not Applicable                NaN   \n",
       "2                  1                NaN               NaN                NaN   \n",
       "3                  1          Full-time  Mid-Senior level  Bachelor's Degree   \n",
       "4                  1          Full-time  Mid-Senior level  Bachelor's Degree   \n",
       "...              ...                ...               ...                ...   \n",
       "17875              1          Full-time  Mid-Senior level                NaN   \n",
       "17876              1          Full-time  Mid-Senior level  Bachelor's Degree   \n",
       "17877              0          Full-time               NaN                NaN   \n",
       "17878              0           Contract    Not Applicable       Professional   \n",
       "17879              1          Full-time  Mid-Senior level                NaN   \n",
       "\n",
       "                Type_of_Industry            Operations  Fraudulent  \n",
       "0                            NaN             Marketing           0  \n",
       "1      Marketing and Advertising      Customer Service           0  \n",
       "2                            NaN                   NaN           0  \n",
       "3              Computer Software                 Sales           0  \n",
       "4         Hospital & Health Care  Health Care Provider           0  \n",
       "...                          ...                   ...         ...  \n",
       "17875          Computer Software                 Sales           0  \n",
       "17876                   Internet   Accounting/Auditing           0  \n",
       "17877                        NaN                   NaN           0  \n",
       "17878             Graphic Design                Design           0  \n",
       "17879          Computer Software           Engineering           0  \n",
       "\n",
       "[17880 rows x 14 columns]"
      ]
     },
     "execution_count": 10,
     "metadata": {},
     "output_type": "execute_result"
    }
   ],
   "source": [
    "jobs_data"
   ]
  },
  {
   "cell_type": "code",
   "execution_count": 11,
   "metadata": {},
   "outputs": [],
   "source": [
    "#Importing the necessary libraries\n",
    "import re\n",
    "import string\n",
    "import nltk\n",
    "from nltk.corpus import stopwords\n",
    "\n",
    "stopwords = stopwords.words(\"english\")"
   ]
  },
  {
   "cell_type": "code",
   "execution_count": 12,
   "metadata": {},
   "outputs": [],
   "source": [
    "def clean_entry1(entry, tokenizer):\n",
    "    \"\"\"Pre-process entry and generate word tokens\n",
    "\n",
    "    Args:\n",
    "        entry: Text to tokenize.\n",
    "\n",
    "    Returns:\n",
    "        Tokenized entry.\n",
    "    \"\"\"\n",
    "    entry = str(entry) #convert the row to a string\n",
    "    entry = re.sub(r\"\\s+\", \" \", entry)  # Remove multiple spaces in content\n",
    "    entry = re.sub(f\"[{re.escape(string.punctuation)}]\", \"\", entry)  # Remove punctuations\n",
    "\n",
    "    tokens = tokenizer(entry)  # Get tokens from entry\n",
    "    tokens = [t for t in tokens if len(t) > 2]  # Remove short tokens\n",
    "    entry = \" \".join(tokens)\n",
    "    return entry\n",
    "\n",
    "def replace1(row):\n",
    "    \"\"\"Replace the entries of each of the selected rows\n",
    "\n",
    "    Args:\n",
    "        row: row to clean.\n",
    "\n",
    "    Returns:\n",
    "        clean row.\n",
    "    \"\"\"\n",
    "    for i, entry in enumerate(row):\n",
    "         \n",
    "        # updating the value of the row\n",
    "        row[i] = clean_entry1(entry, nltk.word_tokenize)\n",
    "    return row"
   ]
  },
  {
   "cell_type": "code",
   "execution_count": 13,
   "metadata": {},
   "outputs": [
    {
     "data": {
      "text/html": [
       "<div>\n",
       "<style scoped>\n",
       "    .dataframe tbody tr th:only-of-type {\n",
       "        vertical-align: middle;\n",
       "    }\n",
       "\n",
       "    .dataframe tbody tr th {\n",
       "        vertical-align: top;\n",
       "    }\n",
       "\n",
       "    .dataframe thead th {\n",
       "        text-align: right;\n",
       "    }\n",
       "</style>\n",
       "<table border=\"1\" class=\"dataframe\">\n",
       "  <thead>\n",
       "    <tr style=\"text-align: right;\">\n",
       "      <th></th>\n",
       "      <th>Job Title</th>\n",
       "      <th>Job Location</th>\n",
       "      <th>Profile</th>\n",
       "      <th>Job_Description</th>\n",
       "      <th>Requirements</th>\n",
       "      <th>Job_Benefits</th>\n",
       "      <th>Telecomunication</th>\n",
       "      <th>Comnpany_Logo</th>\n",
       "      <th>Type_of_Employment</th>\n",
       "      <th>Experience</th>\n",
       "      <th>Qualification</th>\n",
       "      <th>Type_of_Industry</th>\n",
       "      <th>Operations</th>\n",
       "      <th>Fraudulent</th>\n",
       "    </tr>\n",
       "  </thead>\n",
       "  <tbody>\n",
       "    <tr>\n",
       "      <th>0</th>\n",
       "      <td>Marketing Intern</td>\n",
       "      <td>New York</td>\n",
       "      <td>We're Food52, and we've created a groundbreaki...</td>\n",
       "      <td>Food52, a fast-growing, James Beard Award-winn...</td>\n",
       "      <td>Experience with content management systems a m...</td>\n",
       "      <td>NaN</td>\n",
       "      <td>0</td>\n",
       "      <td>1</td>\n",
       "      <td>Other</td>\n",
       "      <td>Internship</td>\n",
       "      <td>NaN</td>\n",
       "      <td>NaN</td>\n",
       "      <td>Marketing</td>\n",
       "      <td>0</td>\n",
       "    </tr>\n",
       "    <tr>\n",
       "      <th>1</th>\n",
       "      <td>Customer Service Cloud Video Production</td>\n",
       "      <td>Auckland</td>\n",
       "      <td>90 Seconds, the worlds Cloud Video Production ...</td>\n",
       "      <td>Organised - Focused - Vibrant - Awesome!Do you...</td>\n",
       "      <td>What we expect from you:Your key responsibilit...</td>\n",
       "      <td>What you will get from usThrough being part of...</td>\n",
       "      <td>0</td>\n",
       "      <td>1</td>\n",
       "      <td>Full-time</td>\n",
       "      <td>Not Applicable</td>\n",
       "      <td>NaN</td>\n",
       "      <td>Marketing and Advertising</td>\n",
       "      <td>Customer Service</td>\n",
       "      <td>0</td>\n",
       "    </tr>\n",
       "  </tbody>\n",
       "</table>\n",
       "</div>"
      ],
      "text/plain": [
       "                                 Job Title Job Location  \\\n",
       "0                         Marketing Intern     New York   \n",
       "1  Customer Service Cloud Video Production     Auckland   \n",
       "\n",
       "                                             Profile  \\\n",
       "0  We're Food52, and we've created a groundbreaki...   \n",
       "1  90 Seconds, the worlds Cloud Video Production ...   \n",
       "\n",
       "                                     Job_Description  \\\n",
       "0  Food52, a fast-growing, James Beard Award-winn...   \n",
       "1  Organised - Focused - Vibrant - Awesome!Do you...   \n",
       "\n",
       "                                        Requirements  \\\n",
       "0  Experience with content management systems a m...   \n",
       "1  What we expect from you:Your key responsibilit...   \n",
       "\n",
       "                                        Job_Benefits  Telecomunication  \\\n",
       "0                                                NaN                 0   \n",
       "1  What you will get from usThrough being part of...                 0   \n",
       "\n",
       "   Comnpany_Logo Type_of_Employment      Experience Qualification  \\\n",
       "0              1              Other      Internship           NaN   \n",
       "1              1          Full-time  Not Applicable           NaN   \n",
       "\n",
       "            Type_of_Industry        Operations  Fraudulent  \n",
       "0                        NaN         Marketing           0  \n",
       "1  Marketing and Advertising  Customer Service           0  "
      ]
     },
     "execution_count": 13,
     "metadata": {},
     "output_type": "execute_result"
    }
   ],
   "source": [
    "jobs_data[[\"Job Title\", \"Job Location\"]] = jobs_data[[\"Job Title\", \"Job Location\"]].copy().apply(lambda row : replace1(row))\n",
    "jobs_data.head(2)"
   ]
  },
  {
   "cell_type": "code",
   "execution_count": 14,
   "metadata": {},
   "outputs": [],
   "source": [
    "def clean_entry2(entry, tokenizer, stopwords):\n",
    "    \"\"\"Pre-process entry and generate word tokens\n",
    "\n",
    "    Args:\n",
    "        entry: Text to tokenize.\n",
    "\n",
    "    Returns:\n",
    "        Tokenized entry.\n",
    "    \"\"\"\n",
    "    entry = str(entry).lower()  # Lowercase words\n",
    "    entry = re.sub(\"[^a-zA-Z0-9]\", \" \", entry)  # Remove punctuations\n",
    "    entry = re.sub(r\"\\s+\", \" \", entry)  # Remove multiple spaces in content\n",
    "    entry = entry.rstrip()\n",
    "\n",
    "    tokens = tokenizer(entry)  # Get tokens from entry\n",
    "    tokens = [t for t in tokens if not t in stopwords]  # Remove stopwords\n",
    "    tokens = [t for t in tokens if len(t) > 2]  # Remove short tokens\n",
    "    return \" \".join(tokens)\n",
    "\n",
    "def replace2(row):\n",
    "    \"\"\"Replace the entries of each of the selected rows\n",
    "\n",
    "    Args:\n",
    "        row: row to clean.\n",
    "\n",
    "    Returns:\n",
    "        clean row.\n",
    "    \"\"\"\n",
    "    for i, entry in enumerate(row): \n",
    "        # updating the value of the row\n",
    "        row[i] = clean_entry2(entry, nltk.word_tokenize, stopwords)\n",
    "    return row"
   ]
  },
  {
   "cell_type": "code",
   "execution_count": 15,
   "metadata": {},
   "outputs": [
    {
     "data": {
      "text/html": [
       "<div>\n",
       "<style scoped>\n",
       "    .dataframe tbody tr th:only-of-type {\n",
       "        vertical-align: middle;\n",
       "    }\n",
       "\n",
       "    .dataframe tbody tr th {\n",
       "        vertical-align: top;\n",
       "    }\n",
       "\n",
       "    .dataframe thead th {\n",
       "        text-align: right;\n",
       "    }\n",
       "</style>\n",
       "<table border=\"1\" class=\"dataframe\">\n",
       "  <thead>\n",
       "    <tr style=\"text-align: right;\">\n",
       "      <th></th>\n",
       "      <th>Job Title</th>\n",
       "      <th>Job Location</th>\n",
       "      <th>Profile</th>\n",
       "      <th>Job_Description</th>\n",
       "      <th>Requirements</th>\n",
       "      <th>Job_Benefits</th>\n",
       "      <th>Telecomunication</th>\n",
       "      <th>Comnpany_Logo</th>\n",
       "      <th>Type_of_Employment</th>\n",
       "      <th>Experience</th>\n",
       "      <th>Qualification</th>\n",
       "      <th>Type_of_Industry</th>\n",
       "      <th>Operations</th>\n",
       "      <th>Fraudulent</th>\n",
       "    </tr>\n",
       "  </thead>\n",
       "  <tbody>\n",
       "    <tr>\n",
       "      <th>0</th>\n",
       "      <td>Marketing Intern</td>\n",
       "      <td>New York</td>\n",
       "      <td>food52 created groundbreaking award winning co...</td>\n",
       "      <td>food52 fast growing james beard award winning ...</td>\n",
       "      <td>experience content management systems major pl...</td>\n",
       "      <td>nan</td>\n",
       "      <td>0</td>\n",
       "      <td>1</td>\n",
       "      <td>Other</td>\n",
       "      <td>Internship</td>\n",
       "      <td>NaN</td>\n",
       "      <td>NaN</td>\n",
       "      <td>Marketing</td>\n",
       "      <td>0</td>\n",
       "    </tr>\n",
       "    <tr>\n",
       "      <th>1</th>\n",
       "      <td>Customer Service Cloud Video Production</td>\n",
       "      <td>Auckland</td>\n",
       "      <td>seconds worlds cloud video production service ...</td>\n",
       "      <td>organised focused vibrant awesome passion cust...</td>\n",
       "      <td>expect key responsibility communicate client s...</td>\n",
       "      <td>get usthrough part seconds team gain experienc...</td>\n",
       "      <td>0</td>\n",
       "      <td>1</td>\n",
       "      <td>Full-time</td>\n",
       "      <td>Not Applicable</td>\n",
       "      <td>NaN</td>\n",
       "      <td>Marketing and Advertising</td>\n",
       "      <td>Customer Service</td>\n",
       "      <td>0</td>\n",
       "    </tr>\n",
       "  </tbody>\n",
       "</table>\n",
       "</div>"
      ],
      "text/plain": [
       "                                 Job Title Job Location  \\\n",
       "0                         Marketing Intern     New York   \n",
       "1  Customer Service Cloud Video Production     Auckland   \n",
       "\n",
       "                                             Profile  \\\n",
       "0  food52 created groundbreaking award winning co...   \n",
       "1  seconds worlds cloud video production service ...   \n",
       "\n",
       "                                     Job_Description  \\\n",
       "0  food52 fast growing james beard award winning ...   \n",
       "1  organised focused vibrant awesome passion cust...   \n",
       "\n",
       "                                        Requirements  \\\n",
       "0  experience content management systems major pl...   \n",
       "1  expect key responsibility communicate client s...   \n",
       "\n",
       "                                        Job_Benefits  Telecomunication  \\\n",
       "0                                                nan                 0   \n",
       "1  get usthrough part seconds team gain experienc...                 0   \n",
       "\n",
       "   Comnpany_Logo Type_of_Employment      Experience Qualification  \\\n",
       "0              1              Other      Internship           NaN   \n",
       "1              1          Full-time  Not Applicable           NaN   \n",
       "\n",
       "            Type_of_Industry        Operations  Fraudulent  \n",
       "0                        NaN         Marketing           0  \n",
       "1  Marketing and Advertising  Customer Service           0  "
      ]
     },
     "execution_count": 15,
     "metadata": {},
     "output_type": "execute_result"
    }
   ],
   "source": [
    "jobs_data[[\"Profile\", \"Job_Description\", \"Requirements\", \"Job_Benefits\"]] = jobs_data[[\"Profile\", \"Job_Description\", \"Requirements\", \"Job_Benefits\"]].copy().apply(lambda row : replace2(row))\n",
    "jobs_data.head(2)"
   ]
  },
  {
   "cell_type": "code",
   "execution_count": 16,
   "metadata": {},
   "outputs": [
    {
     "data": {
      "text/plain": [
       "Full-time    11620\n",
       "Contract      1524\n",
       "Part-time      797\n",
       "Temporary      241\n",
       "Other          227\n",
       "Name: Type_of_Employment, dtype: int64"
      ]
     },
     "execution_count": 16,
     "metadata": {},
     "output_type": "execute_result"
    }
   ],
   "source": [
    "jobs_data.Type_of_Employment.value_counts()"
   ]
  },
  {
   "cell_type": "markdown",
   "metadata": {},
   "source": [
    "We should use a one-hot encoder for the above"
   ]
  },
  {
   "cell_type": "code",
   "execution_count": 17,
   "metadata": {},
   "outputs": [
    {
     "data": {
      "text/plain": [
       "Mid-Senior level    3809\n",
       "Entry level         2697\n",
       "Associate           2297\n",
       "Not Applicable      1116\n",
       "Director             389\n",
       "Internship           381\n",
       "Executive            141\n",
       "Name: Experience, dtype: int64"
      ]
     },
     "execution_count": 17,
     "metadata": {},
     "output_type": "execute_result"
    }
   ],
   "source": [
    "jobs_data.Experience.value_counts()"
   ]
  },
  {
   "cell_type": "markdown",
   "metadata": {},
   "source": [
    "We should use an ordinal encoder for the above"
   ]
  },
  {
   "cell_type": "code",
   "execution_count": 18,
   "metadata": {},
   "outputs": [
    {
     "data": {
      "text/plain": [
       "Bachelor's Degree                    5145\n",
       "High School or equivalent            2080\n",
       "Unspecified                          1397\n",
       "Master's Degree                       416\n",
       "Associate Degree                      274\n",
       "Certification                         170\n",
       "Some College Coursework Completed     102\n",
       "Professional                           74\n",
       "Vocational                             49\n",
       "Some High School Coursework            27\n",
       "Doctorate                              26\n",
       "Vocational - HS Diploma                 9\n",
       "Vocational - Degree                     6\n",
       "Name: Qualification, dtype: int64"
      ]
     },
     "execution_count": 18,
     "metadata": {},
     "output_type": "execute_result"
    }
   ],
   "source": [
    "jobs_data.Qualification.value_counts()"
   ]
  },
  {
   "cell_type": "markdown",
   "metadata": {},
   "source": [
    "One hot encoder for the above"
   ]
  },
  {
   "cell_type": "code",
   "execution_count": 20,
   "metadata": {},
   "outputs": [
    {
     "data": {
      "text/plain": [
       "Information Technology and Services    1734\n",
       "Computer Software                      1376\n",
       "Internet                               1062\n",
       "Marketing and Advertising               828\n",
       "Education Management                    822\n",
       "                                       ... \n",
       "Shipbuilding                              1\n",
       "Sporting Goods                            1\n",
       "Museums and Institutions                  1\n",
       "Wine and Spirits                          1\n",
       "Ranching                                  1\n",
       "Name: Type_of_Industry, Length: 131, dtype: int64"
      ]
     },
     "execution_count": 20,
     "metadata": {},
     "output_type": "execute_result"
    }
   ],
   "source": [
    "jobs_data.Type_of_Industry.value_counts()"
   ]
  },
  {
   "cell_type": "code",
   "execution_count": 21,
   "metadata": {},
   "outputs": [
    {
     "data": {
      "text/plain": [
       "Information Technology    1749\n",
       "Sales                     1468\n",
       "Engineering               1348\n",
       "Customer Service          1229\n",
       "Marketing                  830\n",
       "Administrative             630\n",
       "Design                     340\n",
       "Health Care Provider       338\n",
       "Other                      325\n",
       "Education                  325\n",
       "Management                 317\n",
       "Business Development       228\n",
       "Accounting/Auditing        212\n",
       "Human Resources            205\n",
       "Project Management         183\n",
       "Finance                    172\n",
       "Consulting                 144\n",
       "Writing/Editing            132\n",
       "Art/Creative               132\n",
       "Production                 116\n",
       "Product Management         114\n",
       "Quality Assurance          111\n",
       "Advertising                 90\n",
       "Business Analyst            84\n",
       "Data Analyst                82\n",
       "Public Relations            76\n",
       "Manufacturing               74\n",
       "General Business            68\n",
       "Research                    50\n",
       "Legal                       47\n",
       "Strategy/Planning           46\n",
       "Training                    38\n",
       "Supply Chain                36\n",
       "Financial Analyst           33\n",
       "Distribution                24\n",
       "Purchasing                  15\n",
       "Science                     14\n",
       "Name: Operations, dtype: int64"
      ]
     },
     "execution_count": 21,
     "metadata": {},
     "output_type": "execute_result"
    }
   ],
   "source": [
    "jobs_data.Operations.value_counts()"
   ]
  }
 ],
 "metadata": {
  "interpreter": {
   "hash": "c1302e52d65cc0419e8b79ec9309c58baca8fdba092fcf410ae7a7677a2fe3ec"
  },
  "kernelspec": {
   "display_name": "Python 3.7.7 ('py3.0-TF2.0')",
   "language": "python",
   "name": "python3"
  },
  "language_info": {
   "codemirror_mode": {
    "name": "ipython",
    "version": 3
   },
   "file_extension": ".py",
   "mimetype": "text/x-python",
   "name": "python",
   "nbconvert_exporter": "python",
   "pygments_lexer": "ipython3",
   "version": "3.7.7"
  },
  "orig_nbformat": 4
 },
 "nbformat": 4,
 "nbformat_minor": 2
}
